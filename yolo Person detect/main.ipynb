{
 "cells": [
  {
   "cell_type": "code",
   "execution_count": 23,
   "metadata": {},
   "outputs": [],
   "source": [
    "import os\n",
    "import time\n",
    "import numpy as np\n",
    "import cv2\n",
    "from model.yolo_model import YOLO"
   ]
  },
  {
   "cell_type": "code",
   "execution_count": 24,
   "metadata": {},
   "outputs": [],
   "source": [
    "def process_image(img):\n",
    "    image = cv2.resize(img, (416, 416), interpolation=cv2.INTER_CUBIC) # interpolation=cv2.INTER_LINEAR for faster prediction but lower accuracy\n",
    "    image = np.array(image, dtype='float32')\n",
    "    image /= 255.\n",
    "    image = np.expand_dims(image, axis=0)\n",
    "    return image"
   ]
  },
  {
   "cell_type": "code",
   "execution_count": 25,
   "metadata": {},
   "outputs": [],
   "source": [
    "def get_classes(file):\n",
    "    with open(file) as f:\n",
    "        class_names = f.readlines()\n",
    "    class_names = [c.strip() for c in class_names]\n",
    "    return class_names"
   ]
  },
  {
   "cell_type": "code",
   "execution_count": 26,
   "metadata": {},
   "outputs": [],
   "source": [
    "def draw(image, boxes, scores, classes, all_classes):\n",
    "    for box, score, cl in zip(boxes, scores, classes):\n",
    "        x, y, w, h = box\n",
    "        top = max(0, np.floor(x + 0.5).astype(int))\n",
    "        left = max(0, np.floor(y + 0.5).astype(int))\n",
    "        right = min(image.shape[1], np.floor(x + w + 0.5).astype(int))\n",
    "        bottom = min(image.shape[0], np.floor(y + h + 0.5).astype(int))\n",
    "        cv2.rectangle(image, (top, left), (right, bottom), (255, 0, 0), 2)\n",
    "        cv2.putText(image, '{0} {1:.2f}'.format(all_classes[cl], score), (top, left - 6), cv2.FONT_HERSHEY_SIMPLEX, 0.6, (0, 0, 255), 1, cv2.LINE_AA)\n",
    "        print('class: {0}, score: {1:.2f}'.format(all_classes[cl], score))\n",
    "        print('box coordinate x,y,w,h: {0}'.format(box))\n",
    "    return image"
   ]
  },
  {
   "cell_type": "code",
   "execution_count": 27,
   "metadata": {},
   "outputs": [],
   "source": [
    "def detect_image(image, yolo, all_classes):\n",
    "    pimage = process_image(image)\n",
    "    start = time.time()\n",
    "    boxes, classes, scores = yolo.predict(pimage, image.shape)\n",
    "    end = time.time()\n",
    "    print('time: {0:.2f}s'.format(end - start))\n",
    "    if boxes is not None:\n",
    "        image = draw(image, boxes, scores, classes, all_classes)\n",
    "    return image"
   ]
  },
  {
   "cell_type": "code",
   "execution_count": 28,
   "metadata": {},
   "outputs": [],
   "source": [
    "def detect_video(video, yolo, all_classes):\n",
    "    video_path = os.path.join('videos', video)\n",
    "    camera = cv2.VideoCapture(video_path)\n",
    "    cv2.namedWindow('video', cv2.WINDOW_NORMAL)\n",
    "    while True:\n",
    "        res, frame = camera.read()\n",
    "        if not res:\n",
    "            break\n",
    "        image = detect_image(frame, yolo, all_classes)\n",
    "        cv2.imshow('video', image)\n",
    "        if cv2.waitKey(110) & 0xff == 27:\n",
    "            break\n",
    "    camera.release()"
   ]
  },
  {
   "cell_type": "code",
   "execution_count": 29,
   "metadata": {},
   "outputs": [
    {
     "name": "stdout",
     "output_type": "stream",
     "text": [
      "WARNING:tensorflow:No training configuration found in the save file, so the model was *not* compiled. Compile it manually.\n"
     ]
    }
   ],
   "source": [
    "yolo = YOLO(0.6, 0.5)  # Removed the third argument './yolo.h5'\n",
    "file = './coco_classes.txt'\n",
    "all_classes = get_classes(file)"
   ]
  },
  {
   "cell_type": "code",
   "execution_count": 34,
   "metadata": {},
   "outputs": [
    {
     "name": "stdout",
     "output_type": "stream",
     "text": [
      "1/1 [==============================] - 0s 310ms/step\n",
      "time: 0.35s\n",
      "class: person, score: 1.00\n",
      "box coordinate x,y,w,h: [ 180.20764589  332.23156548  744.65316474 1995.78970337]\n",
      "class: person, score: 1.00\n",
      "box coordinate x,y,w,h: [1060.23975849  463.46504736  372.34283924 1101.09101009]\n"
     ]
    }
   ],
   "source": [
    "f = 'person.jpg'  # The image file name\n",
    "path = os.path.join('images', f)  # Ensure correct path\n",
    "\n",
    "# Read the image\n",
    "image = cv2.imread(path)\n",
    "if image is None:\n",
    "    print(f\"Error: Could not load image from {path}\")\n",
    "else:\n",
    "    # Process and save the result if the image is loaded successfully\n",
    "    image = detect_image(image, yolo, all_classes)\n",
    "    cv2.imwrite(os.path.join('images/res/', f), image)\n"
   ]
  },
  {
   "cell_type": "code",
   "execution_count": null,
   "metadata": {},
   "outputs": [],
   "source": []
  }
 ],
 "metadata": {
  "kernelspec": {
   "display_name": "Python 3",
   "language": "python",
   "name": "python3"
  },
  "language_info": {
   "codemirror_mode": {
    "name": "ipython",
    "version": 3
   },
   "file_extension": ".py",
   "mimetype": "text/x-python",
   "name": "python",
   "nbconvert_exporter": "python",
   "pygments_lexer": "ipython3",
   "version": "3.10.7"
  }
 },
 "nbformat": 4,
 "nbformat_minor": 2
}
