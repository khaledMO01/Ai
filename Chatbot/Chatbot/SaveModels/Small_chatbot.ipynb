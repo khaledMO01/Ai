{
 "cells": [
  {
   "cell_type": "markdown",
   "metadata": {
    "id": "YyOWMS4McAF1"
   },
   "source": [
    "# Import Liberaries "
   ]
  },
  {
   "cell_type": "code",
   "execution_count": null,
   "metadata": {
    "id": "Q7aykQWj7_af"
   },
   "outputs": [],
   "source": [
    "import json \n",
    "import re \n",
    "from sklearn.preprocessing import LabelEncoder\n",
    "import numpy as np \n",
    "import tensorflow as tf\n",
    "from tensorflow.keras.utils import to_categorical\n",
    "from tensorflow.keras.preprocessing.text import Tokenizer\n",
    "from tensorflow.keras.preprocessing.sequence import pad_sequences"
   ]
  },
  {
   "cell_type": "markdown",
   "metadata": {
    "id": "NifGVcvTcHmG"
   },
   "source": [
    "Read Data"
   ]
  },
  {
   "cell_type": "code",
   "execution_count": null,
   "metadata": {
    "id": "Cp_jWjBpcHBw"
   },
   "outputs": [],
   "source": [
    "with open('data.json') as file:\n",
    "    data=json.load(file)"
   ]
  },
  {
   "cell_type": "code",
   "execution_count": null,
   "metadata": {
    "colab": {
     "base_uri": "https://localhost:8080/"
    },
    "id": "bOLkBHgtcX6o",
    "outputId": "1765bb9f-e50b-40bb-b389-ccdaea501711"
   },
   "outputs": [],
   "source": [
    "data"
   ]
  },
  {
   "cell_type": "markdown",
   "metadata": {
    "id": "XjCHjq6vcdb_"
   },
   "source": [
    "Create training example , label and response "
   ]
  },
  {
   "cell_type": "code",
   "execution_count": null,
   "metadata": {
    "id": "H6OaYr4ccYp2"
   },
   "outputs": [],
   "source": [
    "training_example=[]\n",
    "training_labels=[]\n",
    "response=[]\n",
    "\n",
    "for example in data['data']:\n",
    "    for pattern in example['patterns']:\n",
    "        training_example.append(pattern)\n",
    "        training_labels.append(example['label'])\n",
    "    response.append(example['responses'])\n"
   ]
  },
  {
   "cell_type": "code",
   "execution_count": null,
   "metadata": {
    "colab": {
     "base_uri": "https://localhost:8080/"
    },
    "id": "JTpUxsAAd6HG",
    "outputId": "6cdce4d5-1742-4fff-da1b-901fc3286f91"
   },
   "outputs": [],
   "source": [
    "print(\"training example \")\n",
    "print(training_example)"
   ]
  },
  {
   "cell_type": "code",
   "execution_count": null,
   "metadata": {
    "colab": {
     "base_uri": "https://localhost:8080/"
    },
    "id": "KCyryJznelj7",
    "outputId": "55d95a5d-2174-41bb-d7df-2c352810e44d"
   },
   "outputs": [],
   "source": [
    "print(\"training label \")\n",
    "print(training_labels)"
   ]
  },
  {
   "cell_type": "code",
   "execution_count": null,
   "metadata": {
    "colab": {
     "base_uri": "https://localhost:8080/"
    },
    "id": "RRY8UTodeqmX",
    "outputId": "62df54ed-fc65-4479-80ff-d00d4e5d127d"
   },
   "outputs": [],
   "source": [
    "print('Response')\n",
    "print(response)"
   ]
  },
  {
   "cell_type": "code",
   "execution_count": null,
   "metadata": {
    "colab": {
     "base_uri": "https://localhost:8080/"
    },
    "id": "-6bML3Ive98F",
    "outputId": "717ed5c3-44af-4819-8357-0fcaebc44482"
   },
   "outputs": [],
   "source": [
    "len(training_labels)"
   ]
  },
  {
   "cell_type": "code",
   "execution_count": null,
   "metadata": {
    "colab": {
     "base_uri": "https://localhost:8080/"
    },
    "id": "hlifINfEfVoR",
    "outputId": "9a154bc5-3f5f-45ad-d9ca-d4d700a8cae3"
   },
   "outputs": [],
   "source": [
    "len(set(training_labels))"
   ]
  },
  {
   "cell_type": "markdown",
   "metadata": {
    "id": "LdHfsxyyfqu0"
   },
   "source": [
    "Preprocessing"
   ]
  },
  {
   "cell_type": "code",
   "execution_count": null,
   "metadata": {
    "colab": {
     "base_uri": "https://localhost:8080/"
    },
    "id": "oPdtwIZRg--U",
    "outputId": "1dab9739-19da-4a9b-f5d9-b71ac2d1aed5"
   },
   "outputs": [],
   "source": [
    "training_example"
   ]
  },
  {
   "cell_type": "code",
   "execution_count": null,
   "metadata": {
    "id": "jE3LGFTdfeA3"
   },
   "outputs": [],
   "source": [
    "def clean_text(sentences):\n",
    "    result=[]\n",
    "    for sentence in sentences:\n",
    "        #sentence=re.sub(r'\\W',' ',sentence)# pattern  # text \n",
    "        sentence=sentence.lower()\n",
    "        result.append(sentence)\n",
    "        \n",
    "    return result"
   ]
  },
  {
   "cell_type": "code",
   "execution_count": null,
   "metadata": {
    "id": "uZSvuySwgYXe"
   },
   "outputs": [],
   "source": [
    "training_example=clean_text(training_example)"
   ]
  },
  {
   "cell_type": "markdown",
   "metadata": {
    "id": "Y7Z0dZXjjz_T"
   },
   "source": [
    "convert label values"
   ]
  },
  {
   "cell_type": "code",
   "execution_count": null,
   "metadata": {
    "id": "GxxBf1fQixNb"
   },
   "outputs": [],
   "source": [
    "le=LabelEncoder()\n",
    "le.fit(training_labels)\n",
    "training_labels=le.fit_transform(training_labels)"
   ]
  },
  {
   "cell_type": "code",
   "execution_count": null,
   "metadata": {
    "colab": {
     "base_uri": "https://localhost:8080/"
    },
    "id": "IoI0apTHkGo2",
    "outputId": "a34777d7-4ed1-493c-a661-af99ba7cd1fb"
   },
   "outputs": [],
   "source": [
    "training_labels"
   ]
  },
  {
   "cell_type": "code",
   "execution_count": null,
   "metadata": {
    "colab": {
     "base_uri": "https://localhost:8080/"
    },
    "id": "mvhZCy9_qFc7",
    "outputId": "526f70f8-b253-4c7b-878d-86307c4534af"
   },
   "outputs": [],
   "source": [
    "training_labels=to_categorical(training_labels)\n",
    "training_labels"
   ]
  },
  {
   "cell_type": "markdown",
   "metadata": {
    "id": "ag5o05eJlujN"
   },
   "source": [
    "Convert words to vectors"
   ]
  },
  {
   "cell_type": "code",
   "execution_count": null,
   "metadata": {},
   "outputs": [],
   "source": [
    "from tensorflow.keras.preprocessing.text import one_hot \n",
    "sequnces=[one_hot(example,50,filters='') for example in training_example]\n",
    "print(sequnces)"
   ]
  },
  {
   "cell_type": "code",
   "execution_count": null,
   "metadata": {
    "colab": {
     "base_uri": "https://localhost:8080/"
    },
    "id": "S80n4A1_kHwt",
    "outputId": "ca477485-05e5-45eb-89ed-242a1b1ad872"
   },
   "outputs": [],
   "source": [
    "toknizer=Tokenizer(num_words=100)\n",
    "toknizer.fit_on_texts(training_example)\n",
    "sequnces=toknizer.texts_to_sequences(training_example)\n",
    "print(sequnces)"
   ]
  },
  {
   "cell_type": "code",
   "execution_count": null,
   "metadata": {
    "colab": {
     "base_uri": "https://localhost:8080/"
    },
    "id": "NogQSSfzmBum",
    "outputId": "42b68e12-88de-4dfe-ab8f-51f56aba6d9d"
   },
   "outputs": [],
   "source": [
    "padded_sequence=pad_sequences(sequnces,truncating='post',maxlen=20)\n",
    "print(padded_sequence)"
   ]
  },
  {
   "cell_type": "code",
   "execution_count": null,
   "metadata": {
    "colab": {
     "base_uri": "https://localhost:8080/"
    },
    "id": "yq-wIrrnmLrm",
    "outputId": "ad307708-b848-4913-a8e1-43ce0d46a7e0"
   },
   "outputs": [],
   "source": [
    "from tensorflow.keras.models import Sequential\n",
    "from tensorflow.keras.layers import Dense ,LSTM,Embedding ,GlobalAveragePooling1D\n",
    "\n",
    "model=Sequential()\n",
    "model.add(Embedding(100,10,input_length=20))\n",
    "model.add(GlobalAveragePooling1D())\n",
    "model.add(Dense(10,activation='relu'))\n",
    "model.add(Dense(10,activation='relu'))\n",
    "model.add(Dense(8,activation='softmax'))\n",
    "\n",
    "\n",
    "model.compile(loss='categorical_crossentropy',optimizer='adam',metrics=['accuracy'])\n",
    "model.summary()"
   ]
  },
  {
   "cell_type": "code",
   "execution_count": null,
   "metadata": {
    "colab": {
     "base_uri": "https://localhost:8080/"
    },
    "id": "Ilg4_fStqnCr",
    "outputId": "17136b75-0d7b-41f9-9332-d74032a275c5"
   },
   "outputs": [],
   "source": [
    "history=model.fit(np.array(padded_sequence),training_labels,epochs=400)\n"
   ]
  },
  {
   "cell_type": "markdown",
   "metadata": {
    "id": "zMigw85Xrt6O"
   },
   "source": [
    "Save Model"
   ]
  },
  {
   "cell_type": "code",
   "execution_count": null,
   "metadata": {
    "colab": {
     "base_uri": "https://localhost:8080/"
    },
    "id": "VXwyMxiGvVXU",
    "outputId": "3c7670bc-0e9d-4b0e-afdf-b10936c8942d"
   },
   "outputs": [],
   "source": [
    "inp='hello'\n",
    "sent=pad_sequences(toknizer.texts_to_sequences([inp]),maxlen=20)\n",
    "print(sent)\n",
    "result=np.argmax(model.predict(np.array(sent))) # 0-7 \n",
    "print(result)\n",
    "f_res=le.inverse_transform(np.array(result).reshape(1))\n",
    "print(f_res)"
   ]
  },
  {
   "cell_type": "markdown",
   "metadata": {},
   "source": [
    "## Save Model\n"
   ]
  },
  {
   "cell_type": "code",
   "execution_count": null,
   "metadata": {},
   "outputs": [],
   "source": [
    "import pickle as pk \n",
    "#save tokinizer\n",
    "pk.dump(toknizer,open(\"toknizer.pkl\",\"wb\"))"
   ]
  },
  {
   "cell_type": "code",
   "execution_count": null,
   "metadata": {},
   "outputs": [],
   "source": [
    "#save encoder\n",
    "pk.dump(le,open(\"label_encoder.pkl\",\"wb\"))"
   ]
  },
  {
   "cell_type": "code",
   "execution_count": null,
   "metadata": {
    "id": "Nyz31ew_rtbK"
   },
   "outputs": [],
   "source": [
    "model.save('model.h5') # save model \n",
    "from tensorflow.keras.models import load_model\n",
    "model=load_model('model.h5') # load model "
   ]
  },
  {
   "cell_type": "markdown",
   "metadata": {
    "id": "k2YhYdDXrq9h"
   },
   "source": [
    "Interface"
   ]
  },
  {
   "cell_type": "code",
   "execution_count": null,
   "metadata": {
    "id": "RIjWXav_q_13"
   },
   "outputs": [],
   "source": [
    "def user_chat():\n",
    "    while True :\n",
    "        print(\"User : \",end=\"\") \n",
    "        inp=input()\n",
    "\n",
    "        if inp.lower()=='quit':\n",
    "            break\n",
    "        \n",
    "        sent=pad_sequences(toknizer.texts_to_sequences([inp]),maxlen=20) #[] len=20\n",
    "\n",
    "        result=np.argmax(model.predict(np.array(sent),verbose=0)) # 0-7 \n",
    "        # 2 ,3 , 4\n",
    "        f_res=le.inverse_transform(np.array(result).reshape(1))\n",
    "\n",
    "\n",
    "        for label in data['data']:\n",
    "\n",
    "            if label['label']==f_res:\n",
    "\n",
    "                print('ChatBot : ',np.random.choice(label['responses']))\n",
    "\n"
   ]
  },
  {
   "cell_type": "code",
   "execution_count": null,
   "metadata": {
    "colab": {
     "base_uri": "https://localhost:8080/"
    },
    "id": "glDzWm4Qtsol",
    "outputId": "01930605-c52b-44ba-af3c-dcd5926161c2"
   },
   "outputs": [],
   "source": [
    "print(\"Start Conversation with Chatbot\")\n",
    "user_chat()"
   ]
  },
  {
   "cell_type": "code",
   "execution_count": null,
   "metadata": {
    "id": "qEJvo_PmtzPx"
   },
   "outputs": [],
   "source": []
  }
 ],
 "metadata": {
  "colab": {
   "provenance": []
  },
  "kernelspec": {
   "display_name": "Python 3 (ipykernel)",
   "language": "python",
   "name": "python3"
  },
  "language_info": {
   "codemirror_mode": {
    "name": "ipython",
    "version": 3
   },
   "file_extension": ".py",
   "mimetype": "text/x-python",
   "name": "python",
   "nbconvert_exporter": "python",
   "pygments_lexer": "ipython3",
   "version": "3.9.13"
  }
 },
 "nbformat": 4,
 "nbformat_minor": 4
}
